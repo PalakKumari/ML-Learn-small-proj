{
  "nbformat": 4,
  "nbformat_minor": 0,
  "metadata": {
    "colab": {
      "name": "Neural_net.ipynb",
      "provenance": [],
      "authorship_tag": "ABX9TyPUOE2cxlAT0CmolqOYKvDT",
      "include_colab_link": true
    },
    "kernelspec": {
      "name": "python3",
      "display_name": "Python 3"
    },
    "language_info": {
      "name": "python"
    }
  },
  "cells": [
    {
      "cell_type": "markdown",
      "metadata": {
        "id": "view-in-github",
        "colab_type": "text"
      },
      "source": [
        "<a href=\"https://colab.research.google.com/github/PalakKumari/ML-Learn-small-proj/blob/master/Neural_net.ipynb\" target=\"_parent\"><img src=\"https://colab.research.google.com/assets/colab-badge.svg\" alt=\"Open In Colab\"/></a>"
      ]
    },
    {
      "cell_type": "code",
      "metadata": {
        "id": "IiJyQAUdMTwB"
      },
      "source": [
        "import numpy as np\n",
        "x=np.array([[1,0,1],[0,0,1],[1,1,0],[0,1,0]])\n",
        "y=np.array([[1],[0],[1],[0]])"
      ],
      "execution_count": null,
      "outputs": []
    },
    {
      "cell_type": "code",
      "metadata": {
        "colab": {
          "base_uri": "https://localhost:8080/"
        },
        "id": "_sb1qJmDMxXy",
        "outputId": "2af98079-5f16-445c-bc9d-2654d657d551"
      },
      "source": [
        "x.shape"
      ],
      "execution_count": null,
      "outputs": [
        {
          "output_type": "execute_result",
          "data": {
            "text/plain": [
              "(4, 3)"
            ]
          },
          "metadata": {},
          "execution_count": 2
        }
      ]
    },
    {
      "cell_type": "code",
      "metadata": {
        "colab": {
          "base_uri": "https://localhost:8080/"
        },
        "id": "3p0VYRqTM21L",
        "outputId": "06c3df49-e531-42eb-faff-529bb529e525"
      },
      "source": [
        "y.shape"
      ],
      "execution_count": null,
      "outputs": [
        {
          "output_type": "execute_result",
          "data": {
            "text/plain": [
              "(4, 1)"
            ]
          },
          "metadata": {},
          "execution_count": 3
        }
      ]
    },
    {
      "cell_type": "code",
      "metadata": {
        "colab": {
          "base_uri": "https://localhost:8080/"
        },
        "id": "1rsb-c42M46i",
        "outputId": "e576d288-d30d-41df-fb83-c45037cad8cb"
      },
      "source": [
        "#assign wt values\n",
        "np.random.seed(1)\n",
        "weights=np.random.random((3,1))\n",
        "weights"
      ],
      "execution_count": null,
      "outputs": [
        {
          "output_type": "execute_result",
          "data": {
            "text/plain": [
              "array([[4.17022005e-01],\n",
              "       [7.20324493e-01],\n",
              "       [1.14374817e-04]])"
            ]
          },
          "metadata": {},
          "execution_count": 5
        }
      ]
    },
    {
      "cell_type": "code",
      "metadata": {
        "colab": {
          "base_uri": "https://localhost:8080/"
        },
        "id": "Ws_DGnolNMg5",
        "outputId": "e0206f57-5f34-4d56-f13d-068696b49263"
      },
      "source": [
        "mul=np.dot(x,weights)+0.02\n",
        "mul"
      ],
      "execution_count": null,
      "outputs": [
        {
          "output_type": "execute_result",
          "data": {
            "text/plain": [
              "array([[0.43713638],\n",
              "       [0.02011437],\n",
              "       [1.1573465 ],\n",
              "       [0.74032449]])"
            ]
          },
          "metadata": {},
          "execution_count": 6
        }
      ]
    },
    {
      "cell_type": "code",
      "metadata": {
        "id": "TVHLrIwbNTpH"
      },
      "source": [
        "#create the activation function\n",
        "def sigmoid(x):\n",
        "  return 1/(1+np.exp(-x))"
      ],
      "execution_count": null,
      "outputs": []
    },
    {
      "cell_type": "code",
      "metadata": {
        "colab": {
          "base_uri": "https://localhost:8080/"
        },
        "id": "Oqf4buKxOQED",
        "outputId": "814faca3-d5cb-49ac-82d7-f5b56966f11a"
      },
      "source": [
        "sigmoid(0.6)"
      ],
      "execution_count": null,
      "outputs": [
        {
          "output_type": "execute_result",
          "data": {
            "text/plain": [
              "0.6456563062257954"
            ]
          },
          "metadata": {},
          "execution_count": 8
        }
      ]
    },
    {
      "cell_type": "code",
      "metadata": {
        "colab": {
          "base_uri": "https://localhost:8080/"
        },
        "id": "FQ1dy1voOU1f",
        "outputId": "52b96d67-9c77-44d7-f14a-d6f946e8eac2"
      },
      "source": [
        "mul=np.dot(x,weights)+ 0.02\n",
        "ypred=sigmoid(mul)\n",
        "ypred"
      ],
      "execution_count": null,
      "outputs": [
        {
          "output_type": "execute_result",
          "data": {
            "text/plain": [
              "array([[0.60757648],\n",
              "       [0.50502842],\n",
              "       [0.76085023],\n",
              "       [0.67706681]])"
            ]
          },
          "metadata": {},
          "execution_count": 9
        }
      ]
    },
    {
      "cell_type": "code",
      "metadata": {
        "colab": {
          "base_uri": "https://localhost:8080/"
        },
        "id": "384KymLbOfgX",
        "outputId": "be9cdc4e-9858-43b5-e63b-66c07f1a6007"
      },
      "source": [
        "ypred.round()"
      ],
      "execution_count": null,
      "outputs": [
        {
          "output_type": "execute_result",
          "data": {
            "text/plain": [
              "array([[1.],\n",
              "       [1.],\n",
              "       [1.],\n",
              "       [1.]])"
            ]
          },
          "metadata": {},
          "execution_count": 10
        }
      ]
    },
    {
      "cell_type": "code",
      "metadata": {
        "id": "Yty8Y06xPJAD"
      },
      "source": [
        "def gradient(a,x):\n",
        "  return a*x*(1-x)"
      ],
      "execution_count": null,
      "outputs": []
    },
    {
      "cell_type": "code",
      "metadata": {
        "colab": {
          "base_uri": "https://localhost:8080/"
        },
        "id": "hPqYNwEWPP1N",
        "outputId": "384a66ba-078c-486d-91e8-282f417d907f"
      },
      "source": [
        "mul=np.dot(x,weights)+0.02\n",
        "ypred=sigmoid(mul)\n",
        "error=y-ypred\n",
        "error"
      ],
      "execution_count": null,
      "outputs": [
        {
          "output_type": "execute_result",
          "data": {
            "text/plain": [
              "array([[ 0.39242352],\n",
              "       [-0.50502842],\n",
              "       [ 0.23914977],\n",
              "       [-0.67706681]])"
            ]
          },
          "metadata": {},
          "execution_count": 12
        }
      ]
    },
    {
      "cell_type": "code",
      "metadata": {
        "colab": {
          "base_uri": "https://localhost:8080/"
        },
        "id": "QU5jGmNYPfg_",
        "outputId": "2a5e5c47-7077-4e26-cd98-bbbb5f88d90e"
      },
      "source": [
        "mul=np.dot(x,weights)+0.02\n",
        "ypred=sigmoid(mul)\n",
        "error=y-ypred\n",
        "change_int_weight=gradient(error,ypred)\n",
        "weights=weights+np.dot(x.T,change_int_weight) #transpose\n",
        "error"
      ],
      "execution_count": null,
      "outputs": [
        {
          "output_type": "execute_result",
          "data": {
            "text/plain": [
              "array([[ 0.39242352],\n",
              "       [-0.50502842],\n",
              "       [ 0.23914977],\n",
              "       [-0.67706681]])"
            ]
          },
          "metadata": {},
          "execution_count": 21
        }
      ]
    },
    {
      "cell_type": "code",
      "metadata": {
        "id": "mTtWCXt_RLYO"
      },
      "source": [
        "#training \n",
        "for i in range(500):\n",
        "  mul=np.dot(x,weights)+0.02\n",
        "  ypred=sigmoid(mul)\n",
        "  error=y-ypred\n",
        "  change_int_weight=gradient(error,ypred)\n",
        "  weights= weights+np.dot(x.T,change_int_weight)+0.02"
      ],
      "execution_count": null,
      "outputs": []
    },
    {
      "cell_type": "code",
      "metadata": {
        "colab": {
          "base_uri": "https://localhost:8080/"
        },
        "id": "m0CAJ8xlR1gw",
        "outputId": "6c5899c9-c50b-4b2f-b90c-01c77353ffa9"
      },
      "source": [
        "print('Error',error,'\\n')\n",
        "print(ypred,'\\n')\n",
        "print(ypred.round(),'\\n')\n",
        "print(weights,'\\n')\n",
        "print(x,'\\n')\n",
        "print(y,'\\n')"
      ],
      "execution_count": null,
      "outputs": [
        {
          "output_type": "stream",
          "name": "stdout",
          "text": [
            "Error [[ 1.20923241e-05]\n",
            " [-1.53730858e-01]\n",
            " [ 1.20923241e-05]\n",
            " [-1.53730859e-01]] \n",
            "\n",
            "[[0.99998791]\n",
            " [0.15373086]\n",
            " [0.99998791]\n",
            " [0.15373086]] \n",
            "\n",
            "[[1.]\n",
            " [0.]\n",
            " [1.]\n",
            " [0.]] \n",
            "\n",
            "[[13.04856163]\n",
            " [-1.72563407]\n",
            " [-1.72563407]] \n",
            "\n",
            "[[1 0 1]\n",
            " [0 0 1]\n",
            " [1 1 0]\n",
            " [0 1 0]] \n",
            "\n",
            "[[1]\n",
            " [0]\n",
            " [1]\n",
            " [0]] \n",
            "\n"
          ]
        }
      ]
    },
    {
      "cell_type": "code",
      "metadata": {
        "colab": {
          "base_uri": "https://localhost:8080/"
        },
        "id": "p0WZgRyqSIWH",
        "outputId": "23598e02-873c-4732-fe12-33b2ab0520a9"
      },
      "source": [
        "new_data=np.array([[0,0,0],[1,0,0],[1,1,1]])\n",
        "mul=np.dot(x,weights)+0.02\n",
        "ypred=sigmoid(mul)\n",
        "ypred.round()\n"
      ],
      "execution_count": null,
      "outputs": [
        {
          "output_type": "execute_result",
          "data": {
            "text/plain": [
              "array([[1.],\n",
              "       [0.],\n",
              "       [1.],\n",
              "       [0.]])"
            ]
          },
          "metadata": {},
          "execution_count": 31
        }
      ]
    }
  ]
}